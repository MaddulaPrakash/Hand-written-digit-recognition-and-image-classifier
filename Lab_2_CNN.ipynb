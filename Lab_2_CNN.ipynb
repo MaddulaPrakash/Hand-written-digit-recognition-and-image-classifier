{
  "cells": [
    {
      "cell_type": "markdown",
      "metadata": {
        "id": "bQkH6lXqDbJO"
      },
      "source": [
        "# Lab 3: CNN for Handwritted Digit Recognition\n"
      ]
    },
    {
      "cell_type": "code",
      "execution_count": 1,
      "metadata": {
        "scrolled": true,
        "id": "wE2Qw27PDbJc"
      },
      "outputs": [],
      "source": [
        "import numpy as np\n",
        "import tensorflow as tf\n",
        "from tensorflow import keras\n",
        "from keras.models import Model, Sequential\n",
        "from keras.layers import Input, Flatten, Dense, BatchNormalization, Conv2D, MaxPool2D, Activation, MaxPooling2D, Dropout,AveragePooling2D, Flatten\n",
        "from tensorflow.keras.optimizers import SGD, RMSprop, Adam\n",
        "\n",
        "import matplotlib.pyplot as plt\n",
        "np.random.seed(42)\n",
        "#tf.random.set_seed(42)"
      ]
    },
    {
      "cell_type": "markdown",
      "metadata": {
        "id": "HhYkrMCKDbJe"
      },
      "source": [
        "Downloading the MNIST dataset"
      ]
    },
    {
      "cell_type": "code",
      "execution_count": 2,
      "metadata": {
        "colab": {
          "base_uri": "https://localhost:8080/"
        },
        "id": "KyXOqnI6DbJe",
        "outputId": "d5f7ea3b-8eae-4f93-ac7a-25647beecf44"
      },
      "outputs": [
        {
          "output_type": "stream",
          "name": "stdout",
          "text": [
            "Downloading data from https://storage.googleapis.com/tensorflow/tf-keras-datasets/mnist.npz\n",
            "11490434/11490434 [==============================] - 0s 0us/step\n"
          ]
        }
      ],
      "source": [
        "(x_train, y_train), (x_test, y_test) = tf.keras.datasets.mnist.load_data()"
      ]
    },
    {
      "cell_type": "code",
      "execution_count": 3,
      "metadata": {
        "colab": {
          "base_uri": "https://localhost:8080/"
        },
        "id": "tEFOh7hcDbJf",
        "outputId": "137a80d0-90fa-46f4-9c1a-8175d417ef05"
      },
      "outputs": [
        {
          "output_type": "stream",
          "name": "stdout",
          "text": [
            "(60000, 28, 28)\n",
            "(10000, 28, 28)\n",
            "(60000,)\n",
            "(10000,)\n"
          ]
        }
      ],
      "source": [
        "print(x_train.shape)\n",
        "print(x_test.shape)\n",
        "print(y_train.shape)\n",
        "print(y_test.shape)"
      ]
    },
    {
      "cell_type": "code",
      "execution_count": 4,
      "metadata": {
        "colab": {
          "base_uri": "https://localhost:8080/"
        },
        "id": "87UJ_XUzDbJf",
        "outputId": "8bbb078c-f0b9-4254-9f63-9b23b6b61877"
      },
      "outputs": [
        {
          "output_type": "stream",
          "name": "stdout",
          "text": [
            "[[  0   0   0   0   0   0   0   0   0   0   0   0   0   0   0   0   0   0\n",
            "    0   0   0   0   0   0   0   0   0   0]\n",
            " [  0   0   0   0   0   0   0   0   0   0   0   0   0   0   0   0   0   0\n",
            "    0   0   0   0   0   0   0   0   0   0]\n",
            " [  0   0   0   0   0   0   0   0   0   0   0   0   0   0   0   0   0   0\n",
            "    0   0   0   0   0   0   0   0   0   0]\n",
            " [  0   0   0   0   0   0   0   0   0   0   0   0   0   0   0   0   0   0\n",
            "    0   0   0   0   0   0   0   0   0   0]\n",
            " [  0   0   0   0   0   0   0   0   0   0   0   0   0   0   0   0   0   0\n",
            "    0   0   0   0   0   0   0   0   0   0]\n",
            " [  0   0   0   0   0   0   0   0   0   0   0   0   3  18  18  18 126 136\n",
            "  175  26 166 255 247 127   0   0   0   0]\n",
            " [  0   0   0   0   0   0   0   0  30  36  94 154 170 253 253 253 253 253\n",
            "  225 172 253 242 195  64   0   0   0   0]\n",
            " [  0   0   0   0   0   0   0  49 238 253 253 253 253 253 253 253 253 251\n",
            "   93  82  82  56  39   0   0   0   0   0]\n",
            " [  0   0   0   0   0   0   0  18 219 253 253 253 253 253 198 182 247 241\n",
            "    0   0   0   0   0   0   0   0   0   0]\n",
            " [  0   0   0   0   0   0   0   0  80 156 107 253 253 205  11   0  43 154\n",
            "    0   0   0   0   0   0   0   0   0   0]\n",
            " [  0   0   0   0   0   0   0   0   0  14   1 154 253  90   0   0   0   0\n",
            "    0   0   0   0   0   0   0   0   0   0]\n",
            " [  0   0   0   0   0   0   0   0   0   0   0 139 253 190   2   0   0   0\n",
            "    0   0   0   0   0   0   0   0   0   0]\n",
            " [  0   0   0   0   0   0   0   0   0   0   0  11 190 253  70   0   0   0\n",
            "    0   0   0   0   0   0   0   0   0   0]\n",
            " [  0   0   0   0   0   0   0   0   0   0   0   0  35 241 225 160 108   1\n",
            "    0   0   0   0   0   0   0   0   0   0]\n",
            " [  0   0   0   0   0   0   0   0   0   0   0   0   0  81 240 253 253 119\n",
            "   25   0   0   0   0   0   0   0   0   0]\n",
            " [  0   0   0   0   0   0   0   0   0   0   0   0   0   0  45 186 253 253\n",
            "  150  27   0   0   0   0   0   0   0   0]\n",
            " [  0   0   0   0   0   0   0   0   0   0   0   0   0   0   0  16  93 252\n",
            "  253 187   0   0   0   0   0   0   0   0]\n",
            " [  0   0   0   0   0   0   0   0   0   0   0   0   0   0   0   0   0 249\n",
            "  253 249  64   0   0   0   0   0   0   0]\n",
            " [  0   0   0   0   0   0   0   0   0   0   0   0   0   0  46 130 183 253\n",
            "  253 207   2   0   0   0   0   0   0   0]\n",
            " [  0   0   0   0   0   0   0   0   0   0   0   0  39 148 229 253 253 253\n",
            "  250 182   0   0   0   0   0   0   0   0]\n",
            " [  0   0   0   0   0   0   0   0   0   0  24 114 221 253 253 253 253 201\n",
            "   78   0   0   0   0   0   0   0   0   0]\n",
            " [  0   0   0   0   0   0   0   0  23  66 213 253 253 253 253 198  81   2\n",
            "    0   0   0   0   0   0   0   0   0   0]\n",
            " [  0   0   0   0   0   0  18 171 219 253 253 253 253 195  80   9   0   0\n",
            "    0   0   0   0   0   0   0   0   0   0]\n",
            " [  0   0   0   0  55 172 226 253 253 253 253 244 133  11   0   0   0   0\n",
            "    0   0   0   0   0   0   0   0   0   0]\n",
            " [  0   0   0   0 136 253 253 253 212 135 132  16   0   0   0   0   0   0\n",
            "    0   0   0   0   0   0   0   0   0   0]\n",
            " [  0   0   0   0   0   0   0   0   0   0   0   0   0   0   0   0   0   0\n",
            "    0   0   0   0   0   0   0   0   0   0]\n",
            " [  0   0   0   0   0   0   0   0   0   0   0   0   0   0   0   0   0   0\n",
            "    0   0   0   0   0   0   0   0   0   0]\n",
            " [  0   0   0   0   0   0   0   0   0   0   0   0   0   0   0   0   0   0\n",
            "    0   0   0   0   0   0   0   0   0   0]]\n"
          ]
        }
      ],
      "source": [
        "print(x_train[0])"
      ]
    },
    {
      "cell_type": "code",
      "execution_count": 5,
      "metadata": {
        "colab": {
          "base_uri": "https://localhost:8080/",
          "height": 300
        },
        "id": "uMPTevxADbJf",
        "outputId": "96fbbdb6-127f-4075-fc81-c26061d0fbca"
      },
      "outputs": [
        {
          "output_type": "stream",
          "name": "stdout",
          "text": [
            "6\n"
          ]
        },
        {
          "output_type": "execute_result",
          "data": {
            "text/plain": [
              "<matplotlib.image.AxesImage at 0x7fec6b541730>"
            ]
          },
          "metadata": {},
          "execution_count": 5
        },
        {
          "output_type": "display_data",
          "data": {
            "text/plain": [
              "<Figure size 432x288 with 1 Axes>"
            ],
            "image/png": "[encoded data removed]"
          },
          "metadata": {
            "needs_background": "light"
          }
        }
      ],
      "source": [
        "image_index = 999\n",
        "print(y_train[image_index]) \n",
        "plt.imshow(x_train[image_index], cmap='Greys')"
      ]
    },
    {
      "cell_type": "markdown",
      "metadata": {
        "id": "hMek6lIPDbJf"
      },
      "source": [
        "Preprocessing the data"
      ]
    },
    {
      "cell_type": "code",
      "execution_count": 6,
      "metadata": {
        "colab": {
          "base_uri": "https://localhost:8080/"
        },
        "id": "W5W7h0vPDbJg",
        "outputId": "335100cd-de0f-4671-d9ae-b65af11c0d5c"
      },
      "outputs": [
        {
          "output_type": "stream",
          "name": "stdout",
          "text": [
            "x_train shape: (60000, 28, 28, 1)\n",
            "Number of images in x_train 60000\n",
            "Number of images in x_test 10000\n"
          ]
        }
      ],
      "source": [
        "#Reshaping the array to 4-dims\n",
        "x_train = x_train.reshape(x_train.shape[0], 28, 28, 1)\n",
        "x_test = x_test.reshape(x_test.shape[0], 28, 28, 1)\n",
        "input_shape = (28, 28, 1)\n",
        "\n",
        "# Converting the type to 'float'\n",
        "x_train = x_train.astype('float32')\n",
        "x_test = x_test.astype('float32')\n",
        "\n",
        "# Normalizing the input value (input value range: {0,255})\n",
        "x_train /= 255\n",
        "x_test /= 255\n",
        "print('x_train shape:', x_train.shape)\n",
        "print('Number of images in x_train', x_train.shape[0])\n",
        "print('Number of images in x_test', x_test.shape[0])"
      ]
    },
    {
      "cell_type": "markdown",
      "metadata": {
        "id": "xnbVg5LTDbJg"
      },
      "source": [
        "Defining the CNN model"
      ]
    },
    {
      "cell_type": "code",
      "execution_count": 7,
      "metadata": {
        "id": "7mpRqidIDbJh"
      },
      "outputs": [],
      "source": [
        "model = Sequential()\n",
        "model.add(Conv2D(28, kernel_size=(3,3),padding='same',strides=1, input_shape=input_shape,activation='relu'))\n",
        "model.add(MaxPooling2D(pool_size=(2, 2)))\n",
        "model.add(Flatten()) # Flattening the 2D arrays for fully connected layers\n",
        "model.add(Dense(128, activation=tf.nn.relu))\n",
        "model.add(Dropout(0.2))\n",
        "model.add(Dense(10,activation=tf.nn.softmax))"
      ]
    },
    {
      "cell_type": "markdown",
      "metadata": {
        "id": "PvanAtdkDbJh"
      },
      "source": [
        "model description"
      ]
    },
    {
      "cell_type": "code",
      "execution_count": 8,
      "metadata": {
        "colab": {
          "base_uri": "https://localhost:8080/"
        },
        "id": "yf0gXYrhDbJh",
        "outputId": "8687d29a-ab39-4eaa-af7c-ae983f096cd2"
      },
      "outputs": [
        {
          "output_type": "stream",
          "name": "stdout",
          "text": [
            "Model: \"sequential\"\n",
            "_________________________________________________________________\n",
            " Layer (type)                Output Shape              Param #   \n",
            "=================================================================\n",
            " conv2d (Conv2D)             (None, 28, 28, 28)        280       \n",
            "                                                                 \n",
            " max_pooling2d (MaxPooling2D  (None, 14, 14, 28)       0         \n",
            " )                                                               \n",
            "                                                                 \n",
            " flatten (Flatten)           (None, 5488)              0         \n",
            "                                                                 \n",
            " dense (Dense)               (None, 128)               702592    \n",
            "                                                                 \n",
            " dropout (Dropout)           (None, 128)               0         \n",
            "                                                                 \n",
            " dense_1 (Dense)             (None, 10)                1290      \n",
            "                                                                 \n",
            "=================================================================\n",
            "Total params: 704,162\n",
            "Trainable params: 704,162\n",
            "Non-trainable params: 0\n",
            "_________________________________________________________________\n"
          ]
        }
      ],
      "source": [
        "model.summary()"
      ]
    },
    {
      "cell_type": "markdown",
      "metadata": {
        "id": "Z-_gO27kDbJi"
      },
      "source": [
        "Running the CNN model"
      ]
    },
    {
      "cell_type": "code",
      "execution_count": 9,
      "metadata": {
        "scrolled": true,
        "colab": {
          "base_uri": "https://localhost:8080/"
        },
        "id": "dDT2fvj7DbJi",
        "outputId": "e9707a52-8c79-4f15-9681-8b772f176c18"
      },
      "outputs": [
        {
          "output_type": "stream",
          "name": "stdout",
          "text": [
            "Epoch 1/5\n",
            "1500/1500 [==============================] - 43s 28ms/step - loss: 0.2052 - accuracy: 0.9371 - val_loss: 0.0775 - val_accuracy: 0.9772\n",
            "Epoch 2/5\n",
            "1500/1500 [==============================] - 42s 28ms/step - loss: 0.0737 - accuracy: 0.9771 - val_loss: 0.0570 - val_accuracy: 0.9829\n",
            "Epoch 3/5\n",
            "1500/1500 [==============================] - 54s 36ms/step - loss: 0.0502 - accuracy: 0.9841 - val_loss: 0.0533 - val_accuracy: 0.9841\n",
            "Epoch 4/5\n",
            "1500/1500 [==============================] - 43s 28ms/step - loss: 0.0377 - accuracy: 0.9888 - val_loss: 0.0479 - val_accuracy: 0.9861\n",
            "Epoch 5/5\n",
            "1500/1500 [==============================] - 41s 28ms/step - loss: 0.0305 - accuracy: 0.9904 - val_loss: 0.0503 - val_accuracy: 0.9858\n"
          ]
        }
      ],
      "source": [
        "optimizer = keras.optimizers.Adam(\n",
        "    learning_rate=0.001,\n",
        "    beta_1=0.9,\n",
        "    beta_2=0.999,\n",
        "    epsilon=1e-07,\n",
        "    )\n",
        "model.compile(optimizer=optimizer, \n",
        "              loss='sparse_categorical_crossentropy', \n",
        "              metrics=['accuracy'])\n",
        "history = model.fit(x=x_train,y=y_train, epochs=5,validation_split=0.2)"
      ]
    },
    {
      "cell_type": "markdown",
      "metadata": {
        "id": "IAxJ-6ZADbJj"
      },
      "source": [
        "Reference:\n",
        "\n",
        "[1] [Keras loss functions](https://keras.io/api/losses/)\n",
        "\n",
        "[2] [Keras optimizers](https://keras.io/api/optimizers/)\n",
        "\n",
        "[3] [Keras metrics](https://keras.io/api/metrics/)"
      ]
    },
    {
      "cell_type": "markdown",
      "metadata": {
        "id": "GCMbsF6ADbJj"
      },
      "source": [
        "Evaluate the model"
      ]
    },
    {
      "cell_type": "code",
      "execution_count": 10,
      "metadata": {
        "colab": {
          "base_uri": "https://localhost:8080/"
        },
        "id": "IAl3Nu43DbJj",
        "outputId": "acc45dd9-89cc-4e3b-81cd-0c7565fad8a3"
      },
      "outputs": [
        {
          "output_type": "execute_result",
          "data": {
            "text/plain": [
              "['loss', 'accuracy']"
            ]
          },
          "metadata": {},
          "execution_count": 10
        }
      ],
      "source": [
        "model.metrics_names"
      ]
    },
    {
      "cell_type": "code",
      "execution_count": 11,
      "metadata": {
        "colab": {
          "base_uri": "https://localhost:8080/"
        },
        "id": "6qJxN1HEDbJk",
        "outputId": "3eac5e97-ff50-43b9-a743-b99e8fc933bd"
      },
      "outputs": [
        {
          "output_type": "stream",
          "name": "stdout",
          "text": [
            "313/313 [==============================] - 3s 10ms/step - loss: 0.0416 - accuracy: 0.9866\n"
          ]
        },
        {
          "output_type": "execute_result",
          "data": {
            "text/plain": [
              "[0.04164006933569908, 0.9865999817848206]"
            ]
          },
          "metadata": {},
          "execution_count": 11
        }
      ],
      "source": [
        "model.evaluate(x_test, y_test)"
      ]
    },
    {
      "cell_type": "code",
      "execution_count": 12,
      "metadata": {
        "colab": {
          "base_uri": "https://localhost:8080/",
          "height": 570
        },
        "id": "F8It57HfDbJk",
        "outputId": "f5846531-d9d2-48eb-eb80-0514c89a70ba"
      },
      "outputs": [
        {
          "output_type": "stream",
          "name": "stdout",
          "text": [
            "conv2d\n",
            "[[[-0.46759373]\n",
            "  [ 0.1690181 ]\n",
            "  [ 0.22784857]]\n",
            "\n",
            " [[-0.40822056]\n",
            "  [-0.17680134]\n",
            "  [ 0.22089545]]\n",
            "\n",
            " [[-0.15131451]\n",
            "  [-0.26839954]\n",
            "  [ 0.06029794]]]\n",
            "max_pooling2d\n",
            "flatten\n",
            "dense\n",
            "dropout\n",
            "dense_1\n"
          ]
        },
        {
          "output_type": "display_data",
          "data": {
            "text/plain": [
              "<Figure size 288x288 with 1 Axes>"
            ],
            "image/png": "[encoded data removed]"
          },
          "metadata": {
            "needs_background": "light"
          }
        }
      ],
      "source": [
        "for layer in model.layers:\n",
        "    print(layer.name)\n",
        "    if 'conv' not in layer.name:\n",
        "        continue\n",
        "    filters, biases = layer.get_weights()\n",
        "    plt.matshow(filters[:,:,:,0].reshape(3,3))\n",
        "    print(filters[:,:,:,0])"
      ]
    },
    {
      "cell_type": "code",
      "execution_count": 13,
      "metadata": {
        "id": "qp_qtxetDbJk"
      },
      "outputs": [],
      "source": [
        "def plotloss(history,both = True):\n",
        "    plt.plot(history.history['loss'])\n",
        "    if both:\n",
        "        plt.plot(history.history['val_loss'])\n",
        "    plt.title('model loss')\n",
        "    plt.ylabel('loss')\n",
        "    plt.xlabel('epoch')\n",
        "    if both:\n",
        "        plt.legend(['train', 'validation'])\n",
        "    plt.show()"
      ]
    },
    {
      "cell_type": "code",
      "execution_count": 14,
      "metadata": {
        "colab": {
          "base_uri": "https://localhost:8080/",
          "height": 295
        },
        "id": "WKTV9D3HDbJk",
        "outputId": "2e2a49d8-d8f8-49b6-ce66-454fd88277a0"
      },
      "outputs": [
        {
          "output_type": "display_data",
          "data": {
            "text/plain": [
              "<Figure size 432x288 with 1 Axes>"
            ],
            "image/png": "[encoded data removed]"
          },
          "metadata": {
            "needs_background": "light"
          }
        }
      ],
      "source": [
        "plotloss(history,True)"
      ]
    },
    {
      "cell_type": "code",
      "execution_count": null,
      "metadata": {
        "id": "b1LnW70SDbJl"
      },
      "outputs": [],
      "source": []
    },
    {
      "cell_type": "code",
      "execution_count": 15,
      "metadata": {
        "colab": {
          "base_uri": "https://localhost:8080/",
          "height": 525
        },
        "id": "pD4hpLSpDbJl",
        "outputId": "b997d78f-2b74-4584-d5fa-079b040523d1"
      },
      "outputs": [
        {
          "output_type": "stream",
          "name": "stdout",
          "text": [
            "1/1 [==============================] - 0s 197ms/step\n",
            "(1, 10)\n",
            "0 4.4491233e-09\n",
            "1 2.6045154e-07\n",
            "2 3.337241e-08\n",
            "3 2.0040011e-12\n",
            "4 0.99999774\n",
            "5 1.3402895e-09\n",
            "6 1.3861986e-06\n",
            "7 8.5658286e-08\n",
            "8 2.8924227e-09\n",
            "9 4.4525748e-07\n",
            "--------------\n",
            "4\n",
            "4\n"
          ]
        },
        {
          "output_type": "display_data",
          "data": {
            "text/plain": [
              "<Figure size 432x288 with 1 Axes>"
            ],
            "image/png": "[encoded data removed]"
          },
          "metadata": {
            "needs_background": "light"
          }
        }
      ],
      "source": [
        "image_index = 1253\n",
        "plt.imshow(x_test[image_index].reshape(28, 28))#,cmap='Greys')\n",
        "pred = model.predict(x_test[image_index].reshape(1, 28, 28, 1))\n",
        "print(pred.shape)\n",
        "for i in range(pred.shape[1]):\n",
        "    print (i,pred[0,i])\n",
        "#print(pred)\n",
        "print('--------------')\n",
        "print(pred.argmax())\n",
        "print(y_test[image_index])"
      ]
    },
    {
      "cell_type": "markdown",
      "metadata": {
        "id": "diU9Fu5XDbJl"
      },
      "source": [
        "## Lab\n",
        "### Task #1\n",
        "- Implement LeNet on this task (the final layer should be softmax)\n",
        "- Plot the loss after each epoch\n",
        "- Display the kernel/filters of the $1^{st}$ conv layer\n",
        "- Show the performance \n",
        "<img src='lenet.png'>\n",
        "\n",
        "#### Resources\n",
        "- https://keras.io/\n",
        "- https://www.tensorflow.org/"
      ]
    },
    {
      "cell_type": "markdown",
      "metadata": {
        "id": "I7kYx-TADbJm"
      },
      "source": [
        "Start your code here:\n",
        "    "
      ]
    },
    {
      "cell_type": "code",
      "execution_count": 16,
      "metadata": {
        "id": "ffup0HS5DbJm",
        "colab": {
          "base_uri": "https://localhost:8080/",
          "height": 912
        },
        "outputId": "20b19294-4e3f-4fab-df78-422425671d91"
      },
      "outputs": [
        {
          "output_type": "stream",
          "name": "stdout",
          "text": [
            "Epoch 1/10\n",
            "1875/1875 [==============================] - 55s 29ms/step - loss: 0.1873 - accuracy: 0.9428 - val_loss: 0.0526 - val_accuracy: 0.9832\n",
            "Epoch 2/10\n",
            "1875/1875 [==============================] - 49s 26ms/step - loss: 0.0567 - accuracy: 0.9819 - val_loss: 0.0435 - val_accuracy: 0.9855\n",
            "Epoch 3/10\n",
            "1875/1875 [==============================] - 53s 28ms/step - loss: 0.0398 - accuracy: 0.9871 - val_loss: 0.0381 - val_accuracy: 0.9866\n",
            "Epoch 4/10\n",
            "1875/1875 [==============================] - 52s 28ms/step - loss: 0.0305 - accuracy: 0.9901 - val_loss: 0.0379 - val_accuracy: 0.9880\n",
            "Epoch 5/10\n",
            "1875/1875 [==============================] - 50s 27ms/step - loss: 0.0242 - accuracy: 0.9924 - val_loss: 0.0489 - val_accuracy: 0.9860\n",
            "Epoch 6/10\n",
            "1875/1875 [==============================] - 49s 26ms/step - loss: 0.0206 - accuracy: 0.9934 - val_loss: 0.0468 - val_accuracy: 0.9884\n",
            "Epoch 7/10\n",
            "1875/1875 [==============================] - 47s 25ms/step - loss: 0.0170 - accuracy: 0.9946 - val_loss: 0.0416 - val_accuracy: 0.9881\n",
            "Epoch 8/10\n",
            "1875/1875 [==============================] - 49s 26ms/step - loss: 0.0150 - accuracy: 0.9954 - val_loss: 0.0489 - val_accuracy: 0.9878\n",
            "Epoch 9/10\n",
            "1875/1875 [==============================] - 46s 25ms/step - loss: 0.0155 - accuracy: 0.9951 - val_loss: 0.0568 - val_accuracy: 0.9871\n",
            "Epoch 10/10\n",
            "1875/1875 [==============================] - 47s 25ms/step - loss: 0.0125 - accuracy: 0.9958 - val_loss: 0.0457 - val_accuracy: 0.9896\n"
          ]
        },
        {
          "output_type": "display_data",
          "data": {
            "text/plain": [
              "<Figure size 432x288 with 1 Axes>"
            ],
            "image/png": "[encoded data removed]"
          },
          "metadata": {
            "needs_background": "light"
          }
        },
        {
          "output_type": "display_data",
          "data": {
            "text/plain": [
              "<Figure size 432x288 with 6 Axes>"
            ],
            "image/png": "[encoded data removed]"
          },
          "metadata": {}
        },
        {
          "output_type": "stream",
          "name": "stdout",
          "text": [
            "313/313 [==============================] - 4s 12ms/step - loss: 0.0457 - accuracy: 0.9896\n",
            "Test accuracy: 0.9896000027656555\n"
          ]
        }
      ],
      "source": [
        "import numpy as np\n",
        "import tensorflow as tf\n",
        "from tensorflow.keras import datasets\n",
        "from tensorflow.keras.models import Sequential\n",
        "from tensorflow.keras.layers import Dense, Conv2D, MaxPooling2D, Flatten\n",
        "import matplotlib.pyplot as plt\n",
        "\n",
        "(X_train, y_train), (X_test, y_test) = datasets.mnist.load_data()\n",
        "\n",
        "# Preprocess the data\n",
        "X_train = X_train.reshape(X_train.shape[0], 28, 28, 1)\n",
        "X_test = X_test.reshape(X_test.shape[0], 28, 28, 1)\n",
        "X_train = X_train / 255.0\n",
        "X_test = X_test / 255.0\n",
        "\n",
        "# LeNet architecture\n",
        "model = Sequential()\n",
        "model.add(Conv2D(filters=6, kernel_size=(5, 5), activation='tanh', input_shape=(28, 28, 1), padding='same'))\n",
        "model.add(MaxPooling2D(pool_size=(2, 2), strides=(2, 2)))\n",
        "model.add(Conv2D(filters=16, kernel_size=(5, 5), activation='tanh', padding='valid'))\n",
        "model.add(MaxPooling2D(pool_size=(2, 2), strides=(2, 2)))\n",
        "model.add(Flatten())\n",
        "model.add(Dense(units=120, activation='relu'))\n",
        "model.add(Dense(units=84, activation='relu'))\n",
        "model.add(Dense(units=10, activation='softmax'))\n",
        "\n",
        "# Compile the model\n",
        "model.compile(optimizer='adam', loss='sparse_categorical_crossentropy', metrics=['accuracy'])\n",
        "\n",
        "# Train the model\n",
        "history = model.fit(X_train, y_train, epochs=10, validation_data=(X_test, y_test))\n",
        "\n",
        "# Plot the loss after each epoch\n",
        "plt.plot(history.history['loss'])\n",
        "plt.plot(history.history['val_loss'])\n",
        "plt.title('Model Loss')\n",
        "plt.xlabel('Epoch')\n",
        "plt.ylabel('Loss')\n",
        "plt.legend(['train', 'test'])\n",
        "plt.show()\n",
        "\n",
        "# Display the kernel/filters of the 1st conv layer\n",
        "filters, biases = model.layers[0].get_weights()\n",
        "f_min, f_max = filters.min(), filters.max()\n",
        "filters = (filters - f_min) / (f_max - f_min)\n",
        "n_filters, ix = 6, 1\n",
        "for i in range(n_filters):\n",
        "    f = filters[:, :, :, i]\n",
        "    for j in range(1):\n",
        "        ax = plt.subplot(n_filters, 1, ix)\n",
        "        ax.set_xticks([])\n",
        "        ax.set_yticks([])\n",
        "        plt.imshow(f[:, :, j], cmap='gray')\n",
        "        ix += 1\n",
        "plt.show()\n",
        "\n",
        "# Show the performance\n",
        "test_loss, test_acc = model.evaluate(X_test, y_test)\n",
        "print('Test accuracy:', test_acc)\n"
      ]
    },
    {
      "cell_type": "markdown",
      "metadata": {
        "id": "d47VB6IoDbJm"
      },
      "source": [
        "### Task #2\n",
        "- Classify images into several categories\n",
        "- Complete a model to classify each image into the 10 classes described below\n",
        "- Compile and train the model\n",
        "- Print the summary of the model\n",
        "- Evaluate the model \n",
        "    - Show the model loss and accuracy\n",
        "    - Plot the train and validation loss\n",
        "    - For 4 samples from the test set\n",
        "        - Display the image\n",
        "        - Print the true label in text\n",
        "        - Print the output probabilities of all the classes\n",
        "        - Print the predicted label in text"
      ]
    },
    {
      "cell_type": "markdown",
      "metadata": {
        "id": "lgunpqeTDbJn"
      },
      "source": [
        "#### Load the dataset and normalize the pixel values"
      ]
    },
    {
      "cell_type": "code",
      "execution_count": 56,
      "metadata": {
        "id": "Ruym3spDDbJn"
      },
      "outputs": [],
      "source": [
        "from skimage.transform import resize\n",
        "\n",
        "cifar = keras.datasets.cifar10 \n",
        "(x_train, y_train), (x_test, y_test) = cifar.load_data()\n",
        "\n",
        "# Normalize pixel values to be between 0 and 1\n",
        "x_train, x_test = x_train/255.0, x_test/255.0\n",
        "\n",
        "input_shape = (28, 28, 3)"
      ]
    },
    {
      "cell_type": "code",
      "source": [
        "# Reshape the images\n",
        "x_train = tf.image.resize(x_train, input_shape[:2])\n",
        "x_test = tf.image.resize(x_test, input_shape[:2])\n",
        "\n",
        "# Convert labels to one-hot encoding\n",
        "y_train = keras.utils.to_categorical(y_train, 10)\n",
        "y_test = keras.utils.to_categorical(y_test, 10)"
      ],
      "metadata": {
        "id": "72tn-3-bD2aQ"
      },
      "execution_count": 57,
      "outputs": []
    },
    {
      "cell_type": "markdown",
      "metadata": {
        "id": "mX3qm9b3DbJn"
      },
      "source": [
        "#### Define the output classes"
      ]
    },
    {
      "cell_type": "code",
      "execution_count": 58,
      "metadata": {
        "id": "Htwi2VyKDbJn"
      },
      "outputs": [],
      "source": [
        "class_names = ['airplane', 'automobile', 'bird', 'cat', 'deer', 'dog', 'frog', 'horse', 'ship', 'truck']"
      ]
    },
    {
      "cell_type": "markdown",
      "metadata": {
        "id": "L9RpIahGDbJo"
      },
      "source": [
        "#### Display sample images"
      ]
    },
    {
      "cell_type": "code",
      "execution_count": 59,
      "metadata": {
        "id": "anr39ThrDbJo",
        "colab": {
          "base_uri": "https://localhost:8080/",
          "height": 592
        },
        "outputId": "315e1316-f084-45d7-bf2c-c61d32ebc5a2"
      },
      "outputs": [
        {
          "output_type": "display_data",
          "data": {
            "text/plain": [
              "<Figure size 720x720 with 25 Axes>"
            ],
            "image/png": "[encoded data removed]"
          },
          "metadata": {}
        }
      ],
      "source": [
        "plt.figure(figsize=(10,10))\n",
        "for i in range(25):\n",
        "    plt.subplot(5,5,i+1)\n",
        "    plt.xticks([])\n",
        "    plt.yticks([])\n",
        "    plt.grid(False)\n",
        "    plt.imshow(x_train[i], cmap=plt.cm.binary)\n",
        "    plt.xlabel(class_names[np.argmax(y_train[i])])\n",
        "plt.show()"
      ]
    },
    {
      "cell_type": "markdown",
      "metadata": {
        "id": "oMRgcs6nDbJo"
      },
      "source": [
        "#### Build the model"
      ]
    },
    {
      "cell_type": "code",
      "execution_count": 60,
      "metadata": {
        "id": "JuFPvj-WDbJp"
      },
      "outputs": [],
      "source": [
        "from tensorflow.keras import datasets, layers, models\n",
        "\n",
        "model = keras.Sequential(\n",
        "    [\n",
        "        layers.Conv2D(32, kernel_size=(3, 3), activation=\"relu\", input_shape=input_shape),\n",
        "        layers.MaxPooling2D(pool_size=(2, 2)),\n",
        "        layers.Conv2D(64, kernel_size=(3, 3), activation=\"relu\"),\n",
        "        layers.MaxPooling2D(pool_size=(2, 2)),\n",
        "        layers.Flatten(),\n",
        "        layers.Dense(10, activation=\"softmax\"),\n",
        "    ]\n",
        ")"
      ]
    },
    {
      "cell_type": "markdown",
      "metadata": {
        "id": "zUJEIQjLDbJp"
      },
      "source": [
        "#### Train the model and achieve accuracy greater than 75%\n",
        "\n",
        "- Use validation set"
      ]
    },
    {
      "cell_type": "code",
      "execution_count": 63,
      "metadata": {
        "id": "spsA27DgDbJp",
        "colab": {
          "base_uri": "https://localhost:8080/"
        },
        "outputId": "5379fa4d-4004-44ee-c2be-eb7c8ef027d9"
      },
      "outputs": [
        {
          "output_type": "stream",
          "name": "stdout",
          "text": [
            "Epoch 1/20\n",
            "352/352 [==============================] - 45s 125ms/step - loss: 0.6680 - accuracy: 0.7690 - val_loss: 0.9349 - val_accuracy: 0.6916\n",
            "Epoch 2/20\n",
            "352/352 [==============================] - 46s 132ms/step - loss: 0.6579 - accuracy: 0.7758 - val_loss: 0.9375 - val_accuracy: 0.6940\n",
            "Epoch 3/20\n",
            "352/352 [==============================] - 42s 120ms/step - loss: 0.6533 - accuracy: 0.7760 - val_loss: 0.9546 - val_accuracy: 0.6854\n",
            "Epoch 4/20\n",
            "352/352 [==============================] - 44s 125ms/step - loss: 0.6492 - accuracy: 0.7762 - val_loss: 0.9392 - val_accuracy: 0.6944\n",
            "Epoch 5/20\n",
            "352/352 [==============================] - 43s 123ms/step - loss: 0.6432 - accuracy: 0.7788 - val_loss: 0.9304 - val_accuracy: 0.6946\n",
            "Epoch 6/20\n",
            "352/352 [==============================] - 43s 123ms/step - loss: 0.6439 - accuracy: 0.7774 - val_loss: 0.9390 - val_accuracy: 0.6938\n",
            "Epoch 7/20\n",
            "352/352 [==============================] - 42s 121ms/step - loss: 0.6343 - accuracy: 0.7812 - val_loss: 0.9555 - val_accuracy: 0.6898\n",
            "Epoch 8/20\n",
            "352/352 [==============================] - 43s 122ms/step - loss: 0.6303 - accuracy: 0.7837 - val_loss: 0.9625 - val_accuracy: 0.6916\n",
            "Epoch 9/20\n",
            "352/352 [==============================] - 44s 124ms/step - loss: 0.6285 - accuracy: 0.7825 - val_loss: 0.9389 - val_accuracy: 0.6990\n",
            "Epoch 10/20\n",
            "352/352 [==============================] - 43s 123ms/step - loss: 0.6249 - accuracy: 0.7846 - val_loss: 0.9464 - val_accuracy: 0.6966\n",
            "Epoch 11/20\n",
            "352/352 [==============================] - 44s 125ms/step - loss: 0.6165 - accuracy: 0.7866 - val_loss: 0.9476 - val_accuracy: 0.6950\n",
            "Epoch 12/20\n",
            "352/352 [==============================] - 44s 125ms/step - loss: 0.6127 - accuracy: 0.7896 - val_loss: 0.9589 - val_accuracy: 0.6942\n",
            "Epoch 13/20\n",
            "352/352 [==============================] - 44s 125ms/step - loss: 0.6102 - accuracy: 0.7913 - val_loss: 0.9608 - val_accuracy: 0.6948\n",
            "Epoch 14/20\n",
            "352/352 [==============================] - 43s 122ms/step - loss: 0.6059 - accuracy: 0.7909 - val_loss: 0.9772 - val_accuracy: 0.6920\n",
            "Epoch 15/20\n",
            "352/352 [==============================] - 45s 128ms/step - loss: 0.5992 - accuracy: 0.7950 - val_loss: 0.9543 - val_accuracy: 0.6978\n",
            "Epoch 16/20\n",
            "352/352 [==============================] - 44s 124ms/step - loss: 0.6001 - accuracy: 0.7930 - val_loss: 0.9544 - val_accuracy: 0.6962\n",
            "Epoch 17/20\n",
            "352/352 [==============================] - 44s 125ms/step - loss: 0.5927 - accuracy: 0.7952 - val_loss: 0.9624 - val_accuracy: 0.6952\n",
            "Epoch 18/20\n",
            "352/352 [==============================] - 44s 126ms/step - loss: 0.5921 - accuracy: 0.7965 - val_loss: 0.9503 - val_accuracy: 0.6996\n",
            "Epoch 19/20\n",
            "352/352 [==============================] - 44s 125ms/step - loss: 0.5822 - accuracy: 0.7997 - val_loss: 0.9691 - val_accuracy: 0.6952\n",
            "Epoch 20/20\n",
            "352/352 [==============================] - 44s 124ms/step - loss: 0.5827 - accuracy: 0.7994 - val_loss: 0.9851 - val_accuracy: 0.6924\n"
          ]
        }
      ],
      "source": [
        "# Compile the model\n",
        "model.compile(loss=\"categorical_crossentropy\", optimizer=\"adam\", metrics=[\"accuracy\"])\n",
        "\n",
        "# Train the model\n",
        "history = model.fit(x_train, y_train, batch_size=128, epochs=20, validation_split=0.1)"
      ]
    },
    {
      "cell_type": "markdown",
      "metadata": {
        "id": "szVamgQ9DbJp"
      },
      "source": [
        "#### Print the model summary"
      ]
    },
    {
      "cell_type": "code",
      "execution_count": 64,
      "metadata": {
        "id": "-Iz8FruJDbJp",
        "colab": {
          "base_uri": "https://localhost:8080/"
        },
        "outputId": "773c9591-3912-440a-9aea-f8ced76a1096"
      },
      "outputs": [
        {
          "output_type": "stream",
          "name": "stdout",
          "text": [
            "Model: \"sequential_7\"\n",
            "_________________________________________________________________\n",
            " Layer (type)                Output Shape              Param #   \n",
            "=================================================================\n",
            " conv2d_17 (Conv2D)          (None, 26, 26, 32)        896       \n",
            "                                                                 \n",
            " max_pooling2d_13 (MaxPoolin  (None, 13, 13, 32)       0         \n",
            " g2D)                                                            \n",
            "                                                                 \n",
            " conv2d_18 (Conv2D)          (None, 11, 11, 64)        18496     \n",
            "                                                                 \n",
            " max_pooling2d_14 (MaxPoolin  (None, 5, 5, 64)         0         \n",
            " g2D)                                                            \n",
            "                                                                 \n",
            " flatten_7 (Flatten)         (None, 1600)              0         \n",
            "                                                                 \n",
            " dense_13 (Dense)            (None, 10)                16010     \n",
            "                                                                 \n",
            "=================================================================\n",
            "Total params: 35,402\n",
            "Trainable params: 35,402\n",
            "Non-trainable params: 0\n",
            "_________________________________________________________________\n"
          ]
        }
      ],
      "source": [
        "model.summary()"
      ]
    },
    {
      "cell_type": "markdown",
      "metadata": {
        "id": "NBsyCcNvDbJq"
      },
      "source": [
        "#### Evaluate the model\n",
        "\n",
        "- plot training and validation loss\n",
        "- print accuracy"
      ]
    },
    {
      "cell_type": "code",
      "execution_count": 67,
      "metadata": {
        "id": "0sGB_gfhDbJq",
        "colab": {
          "base_uri": "https://localhost:8080/",
          "height": 298
        },
        "outputId": "225a45ae-1add-44f8-d1c5-0a98fba458f1"
      },
      "outputs": [
        {
          "output_type": "display_data",
          "data": {
            "text/plain": [
              "<Figure size 432x288 with 1 Axes>"
            ],
            "image/png": "[encoded data removed]"
          },
          "metadata": {
            "needs_background": "light"
          }
        },
        {
          "output_type": "stream",
          "name": "stdout",
          "text": [
            "Test accuracy: 0.6776000261306763\n"
          ]
        }
      ],
      "source": [
        "# Plot training and validation loss\n",
        "plt.plot(history.history[\"loss\"], label=\"Training loss\")\n",
        "plt.plot(history.history[\"val_loss\"], label=\"Validation loss\")\n",
        "plt.xlabel(\"Epoch\")\n",
        "plt.ylabel(\"Loss\")\n",
        "plt.legend()\n",
        "plt.show()\n",
        "\n",
        "print(\"Test accuracy:\", test_acc)"
      ]
    },
    {
      "cell_type": "markdown",
      "metadata": {
        "id": "yx-tx6EQDbJq"
      },
      "source": [
        "### Taking 4 samples from the test set \n",
        "- display the image\n",
        "- print the true label\n",
        "- print the output probability distribution of the classes\n",
        "- print the predicted class"
      ]
    },
    {
      "cell_type": "code",
      "execution_count": 76,
      "metadata": {
        "id": "2pxGn2rvDbJq",
        "colab": {
          "base_uri": "https://localhost:8080/",
          "height": 1000
        },
        "outputId": "e9def134-5106-4833-a277-272a3a5a1407"
      },
      "outputs": [
        {
          "output_type": "stream",
          "name": "stdout",
          "text": [
            "Image : 1\n",
            "True label: frog\n"
          ]
        },
        {
          "output_type": "display_data",
          "data": {
            "text/plain": [
              "<Figure size 432x288 with 1 Axes>"
            ],
            "image/png": "[encoded data removed]"
          },
          "metadata": {
            "needs_background": "light"
          }
        },
        {
          "output_type": "stream",
          "name": "stdout",
          "text": [
            "1/1 [==============================] - 0s 31ms/step\n",
            "Predictions: [[2.3109866e-04 8.1914640e-04 3.9642872e-03 1.1799175e-01 2.6852516e-02\n",
            "  3.3249851e-02 7.9716885e-01 4.1269814e-03 2.1750765e-04 1.5378087e-02]]\n",
            "Predicted class: frog\n",
            "Image : 2\n",
            "True label: truck\n"
          ]
        },
        {
          "output_type": "display_data",
          "data": {
            "text/plain": [
              "<Figure size 432x288 with 1 Axes>"
            ],
            "image/png": "[encoded data removed]"
          },
          "metadata": {
            "needs_background": "light"
          }
        },
        {
          "output_type": "stream",
          "name": "stdout",
          "text": [
            "1/1 [==============================] - 0s 29ms/step\n",
            "Predictions: [[3.9804518e-06 1.4119983e-06 1.9771920e-10 1.4784293e-07 1.7133183e-06\n",
            "  1.3256389e-08 1.1542196e-09 7.4888609e-05 4.7403264e-05 9.9987042e-01]]\n",
            "Predicted class: truck\n",
            "Image : 3\n",
            "True label: horse\n"
          ]
        },
        {
          "output_type": "display_data",
          "data": {
            "text/plain": [
              "<Figure size 432x288 with 1 Axes>"
            ],
            "image/png": "[encoded data removed]"
          },
          "metadata": {
            "needs_background": "light"
          }
        },
        {
          "output_type": "stream",
          "name": "stdout",
          "text": [
            "1/1 [==============================] - 0s 29ms/step\n",
            "Predictions: [[2.5969531e-02 1.8671682e-02 6.1330106e-03 1.2471029e-02 2.6055610e-01\n",
            "  1.3925726e-04 1.4399991e-03 6.7280972e-01 9.8280019e-05 1.7114239e-03]]\n",
            "Predicted class: horse\n",
            "Image : 4\n",
            "True label: bird\n"
          ]
        },
        {
          "output_type": "display_data",
          "data": {
            "text/plain": [
              "<Figure size 432x288 with 1 Axes>"
            ],
            "image/png": "[encoded data removed]"
          },
          "metadata": {
            "needs_background": "light"
          }
        },
        {
          "output_type": "stream",
          "name": "stdout",
          "text": [
            "1/1 [==============================] - 0s 28ms/step\n",
            "Predictions: [[1.4718773e-04 1.0470565e-05 9.3930310e-01 9.5043601e-03 5.9250593e-03\n",
            "  2.5880873e-02 9.8215034e-03 4.7536260e-03 4.6185064e-04 4.1919947e-03]]\n",
            "Predicted class: bird\n"
          ]
        }
      ],
      "source": [
        "# Taking 4 samples from the test set\n",
        "sample_indexes = np.random.choice(range(len(x_test)), size=4, replace=False)\n",
        "x_test = np.array(x_test)\n",
        "y_test = np.array(y_test)\n",
        "sample_images = x_test[sample_indexes]\n",
        "sample_labels = y_test[sample_indexes]\n",
        "\n",
        "for i in range(len(sample_images)):\n",
        "    print(\"Image :\", i + 1)\n",
        "    print(\"True label:\", class_names[np.argmax(sample_labels[i])])        \n",
        "\n",
        "    # Display the image\n",
        "    plt.imshow(sample_images[i])\n",
        "    plt.axis(\"off\")\n",
        "    plt.show()\n",
        "    \n",
        "    # Print the output probability distribution of the classes\n",
        "    predictions = model.predict(np.array([sample_images[i]]))\n",
        "    print(\"Predictions:\", predictions)\n",
        "    \n",
        "    # Print the predicted class\n",
        "    predicted_class = np.argmax(predictions)\n",
        "    print(\"Predicted class:\", class_names[predicted_class])"
      ]
    },
    {
      "cell_type": "code",
      "source": [],
      "metadata": {
        "id": "KCsoFyKwfJo-"
      },
      "execution_count": null,
      "outputs": []
    }
  ],
  "metadata": {
    "kernelspec": {
      "display_name": "Python 3",
      "language": "python",
      "name": "python3"
    },
    "language_info": {
      "codemirror_mode": {
        "name": "ipython",
        "version": 3
      },
      "file_extension": ".py",
      "mimetype": "text/x-python",
      "name": "python",
      "nbconvert_exporter": "python",
      "pygments_lexer": "ipython3",
      "version": "3.8.8"
    },
    "colab": {
      "provenance": []
    }
  },
  "nbformat": 4,
  "nbformat_minor": 0
}